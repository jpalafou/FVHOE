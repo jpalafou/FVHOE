{
 "cells": [
  {
   "cell_type": "code",
   "execution_count": 11,
   "metadata": {},
   "outputs": [],
   "source": [
    "from fvhoe.initial_conditions import Square\n",
    "from fvhoe.array_management import HydroState\n",
    "import numpy as np"
   ]
  },
  {
   "cell_type": "code",
   "execution_count": 12,
   "metadata": {},
   "outputs": [],
   "source": [
    "def tracer1_ic(x, y, z):\n",
    "    return np.ones_like(x)\n",
    "\n",
    "\n",
    "def tracer2_ic(x, y, z):\n",
    "    return np.zeros_like(x)\n",
    "\n",
    "\n",
    "hs = HydroState(passive_scalars=(\"tracer1\", \"tracer2\"))\n",
    "ic_func = Square().build_ic(\n",
    "    hs, passive_ic_funcs={\"tracer1\": tracer1_ic, \"tracer2\": tracer2_ic}\n",
    ")"
   ]
  },
  {
   "cell_type": "code",
   "execution_count": 13,
   "metadata": {},
   "outputs": [
    {
     "data": {
      "text/plain": [
       "array([0., 0., 0., 0., 0., 0., 0., 0., 0., 0., 0., 0., 0., 0., 0., 0., 0.,\n",
       "       0., 0., 0., 0., 0., 0., 0., 0., 0., 0., 0., 0., 0., 0., 0., 0., 0.,\n",
       "       0., 0., 0., 0., 0., 0., 0., 0., 0., 0., 0., 0., 0., 0., 0., 0., 0.,\n",
       "       0., 0., 0., 0., 0., 0., 0., 0., 0., 0., 0., 0., 0.])"
      ]
     },
     "execution_count": 13,
     "metadata": {},
     "output_type": "execute_result"
    }
   ],
   "source": [
    "x, y, z = np.meshgrid(np.linspace(0, 1, 64), np.array([0.5]), np.array([0.5]))\n",
    "\n",
    "ic_func(x, y, z)[hs(\"vy\")].flatten()"
   ]
  }
 ],
 "metadata": {
  "kernelspec": {
   "display_name": "fvhoe-env",
   "language": "python",
   "name": "python3"
  },
  "language_info": {
   "codemirror_mode": {
    "name": "ipython",
    "version": 3
   },
   "file_extension": ".py",
   "mimetype": "text/x-python",
   "name": "python",
   "nbconvert_exporter": "python",
   "pygments_lexer": "ipython3",
   "version": "3.11.9"
  }
 },
 "nbformat": 4,
 "nbformat_minor": 2
}
