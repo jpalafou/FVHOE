{
 "cells": [
  {
   "cell_type": "code",
   "execution_count": 1,
   "id": "f234669d",
   "metadata": {},
   "outputs": [],
   "source": [
    "from functools import partial\n",
    "from fvhoe.hydro import advection_dt\n",
    "from fvhoe.initial_conditions import square\n",
    "from fvhoe.solver import EulerSolver\n",
    "import matplotlib.pyplot as plt\n",
    "import numpy as np\n",
    "\n",
    "import sys\n",
    "\n",
    "sys.path.append(\"../../spd/src\")\n",
    "sys.path.append(\"../../spd/utils\")\n",
    "\n",
    "import initial_conditions as ic\n",
    "from sdader_simulator import SDADER_Simulator"
   ]
  },
  {
   "cell_type": "code",
   "execution_count": 2,
   "id": "7566d8b6",
   "metadata": {},
   "outputs": [],
   "source": [
    "n_dims = 2\n",
    "T = 1.0\n",
    "DOFs = 32\n",
    "p = 3\n",
    "CFL = 0.6\n",
    "cupy = False\n",
    "first_order_integrator = False\n",
    "slope_limiting = True\n",
    "NAD_tol = 1e-5\n",
    "NAD_range = \"relative\""
   ]
  },
  {
   "cell_type": "code",
   "execution_count": 3,
   "id": "2334d175",
   "metadata": {},
   "outputs": [
    {
     "name": "stderr",
     "output_type": "stream",
     "text": [
      "100%|██████████| 1.0/1.0 [00:04]                 \n",
      "/home/jp7427/Desktop/FVHOE/experiments/notebooks/../../spd/src/trouble_detection.py:125: RuntimeWarning: divide by zero encountered in divide\n",
      "  -np.where(dv < 0, np.where(vL > 0, vL, 0), np.where(vL < 0, vL, 0)) / dv\n",
      "/home/jp7427/Desktop/FVHOE/experiments/notebooks/../../spd/src/trouble_detection.py:125: RuntimeWarning: invalid value encountered in divide\n",
      "  -np.where(dv < 0, np.where(vL > 0, vL, 0), np.where(vL < 0, vL, 0)) / dv\n",
      "/home/jp7427/Desktop/FVHOE/experiments/notebooks/../../spd/src/trouble_detection.py:132: RuntimeWarning: divide by zero encountered in divide\n",
      "  alphaR = np.where(dv > 0, np.where(vR > 0, vR, 0), np.where(vR < 0, vR, 0)) / dv\n",
      "/home/jp7427/Desktop/FVHOE/experiments/notebooks/../../spd/src/trouble_detection.py:132: RuntimeWarning: invalid value encountered in divide\n",
      "  alphaR = np.where(dv > 0, np.where(vR > 0, vR, 0), np.where(vR < 0, vR, 0)) / dv\n",
      "/home/jp7427/Desktop/FVHOE/experiments/notebooks/../../spd/src/muscl.py:33: RuntimeWarning: divide by zero encountered in divide\n",
      "  ratio = SlopeR/SlopeL\n",
      "/home/jp7427/Desktop/FVHOE/experiments/notebooks/../../spd/src/muscl.py:33: RuntimeWarning: invalid value encountered in divide\n",
      "  ratio = SlopeR/SlopeL\n"
     ]
    },
    {
     "name": "stdout",
     "output_type": "stream",
     "text": [
      "t=1.0, steps taken 233, time taken 3.4672048499342054\n"
     ]
    }
   ],
   "source": [
    "# finite volume solver\n",
    "fv = EulerSolver(\n",
    "    w0=square(\n",
    "        dims={1: \"x\", 2: \"xy\", 3: \"xyz\"}[n_dims],\n",
    "        vx=1,\n",
    "        vy={1: 0, 2: 1, 3: 1}[n_dims],\n",
    "        vz={1: 0, 2: 0, 3: 1}[n_dims],\n",
    "    ),\n",
    "    nx=DOFs,\n",
    "    ny=DOFs if n_dims > 1 else 1,\n",
    "    nz=DOFs if n_dims > 2 else 1,\n",
    "    px=p,\n",
    "    py=p if n_dims > 1 else 0,\n",
    "    pz=p if n_dims > 2 else 0,\n",
    "    riemann_solver=\"llf\",\n",
    "    CFL=CFL,\n",
    "    a_posteriori_slope_limiting=slope_limiting,\n",
    "    NAD=NAD_tol,\n",
    "    NAD_mode=\"local\",\n",
    "    NAD_range=NAD_range,\n",
    "    cupy=cupy,\n",
    ")\n",
    "if first_order_integrator:\n",
    "    fv.euler(T)\n",
    "else:\n",
    "    fv.run(T)\n",
    "\n",
    "# finite element solver\n",
    "sd = SDADER_Simulator(\n",
    "    p=p,\n",
    "    m=0 if first_order_integrator else -1,\n",
    "    N=(DOFs // (p + 1),) * n_dims,\n",
    "    init_fct=ic.step_function(),\n",
    "    cfl_coeff=CFL,\n",
    "    update=\"FV\" if slope_limiting else \"SD\",\n",
    "    FB=slope_limiting,\n",
    "    tolerance=NAD_tol,\n",
    "    NAD={\"relative\": \"delta\", \"absolute\": \"\"}[NAD_range],\n",
    "    use_cupy=cupy,\n",
    ")\n",
    "sd.perform_time_evolution(T)"
   ]
  },
  {
   "cell_type": "code",
   "execution_count": 4,
   "id": "0a21cd2c",
   "metadata": {},
   "outputs": [
    {
     "data": {
      "text/plain": [
       "Text(0.5, 1.0, 'sd')"
      ]
     },
     "execution_count": 4,
     "metadata": {},
     "output_type": "execute_result"
    },
    {
     "data": {
      "image/png": "[encoded data removed]",
      "text/plain": [
       "<Figure size 1000x400 with 4 Axes>"
      ]
     },
     "metadata": {},
     "output_type": "display_data"
    }
   ],
   "source": [
    "fig, axs = plt.subplots(1, 2, figsize=(10, 4))\n",
    "\n",
    "if n_dims == 2:\n",
    "    # fv plot\n",
    "    fv_im = fv.plot_2d_slice(axs[0], param=\"rho\", z=0.5)\n",
    "    fv_im_ax = fig.add_axes(\n",
    "        [\n",
    "            axs[0].get_position().x0 + axs[0].get_position().width,\n",
    "            axs[0].get_position().y0,\n",
    "            0.02,\n",
    "            axs[0].get_position().height,\n",
    "        ]\n",
    "    )\n",
    "    fig.colorbar(fv_im, cax=fv_im_ax, label=r\"$\\rho$\")\n",
    "\n",
    "    # sd plot\n",
    "    sd_data = np.rot90(sd.transpose_to_fv(sd.regular_mesh(sd.dm.W_cv))[0], k=1)\n",
    "    x, y = sd.regular_faces()\n",
    "    x, y = 0.5 * (x[1:] + x[:-1]), 0.5 * (y[1:] + y[:-1])\n",
    "    sd_im = axs[1].imshow(\n",
    "        sd_data, cmap=\"GnBu_r\", extent=(x.min(), x.max(), y.min(), y.max())\n",
    "    )\n",
    "    sd_im_ax = fig.add_axes(\n",
    "        [\n",
    "            axs[1].get_position().x0 + axs[1].get_position().width,\n",
    "            axs[1].get_position().y0,\n",
    "            0.02,\n",
    "            axs[1].get_position().height,\n",
    "        ]\n",
    "    )\n",
    "    fig.colorbar(sd_im, cax=sd_im_ax, label=r\"$\\rho$\")\n",
    "\n",
    "axs[0].set_title(\"fv\")\n",
    "axs[1].set_title(\"sd\")"
   ]
  },
  {
   "cell_type": "code",
   "execution_count": null,
   "id": "27a72103",
   "metadata": {},
   "outputs": [],
   "source": []
  }
 ],
 "metadata": {
  "kernelspec": {
   "display_name": "fvhoe-env [~/.conda/envs/fvhoe-env/]",
   "language": "python",
   "name": "conda_fvhoe-env"
  },
  "language_info": {
   "codemirror_mode": {
    "name": "ipython",
    "version": 3
   },
   "file_extension": ".py",
   "mimetype": "text/x-python",
   "name": "python",
   "nbconvert_exporter": "python",
   "pygments_lexer": "ipython3",
   "version": "3.11.9"
  }
 },
 "nbformat": 4,
 "nbformat_minor": 5
}
