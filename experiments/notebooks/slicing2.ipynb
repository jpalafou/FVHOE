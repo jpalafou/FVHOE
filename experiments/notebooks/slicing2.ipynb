{
 "cells": [
  {
   "cell_type": "code",
   "execution_count": 1,
   "metadata": {},
   "outputs": [],
   "source": [
    "from fvhoe.hydro import HydroState"
   ]
  },
  {
   "cell_type": "code",
   "execution_count": 2,
   "metadata": {},
   "outputs": [],
   "source": [
    "hs = HydroState(passive_scalars=[\"tracer1\", \"tracer2\"])"
   ]
  },
  {
   "cell_type": "code",
   "execution_count": 3,
   "metadata": {},
   "outputs": [
    {
     "data": {
      "text/plain": [
       "{'rho': 0,\n",
       " 'vx': 1,\n",
       " 'mx': 1,\n",
       " 'vy': 2,\n",
       " 'my': 2,\n",
       " 'vz': 3,\n",
       " 'mz': 3,\n",
       " 'v': array([1, 2, 3]),\n",
       " 'm': array([1, 2, 3]),\n",
       " 'P': 4,\n",
       " 'E': 4,\n",
       " 'tracer2': 5,\n",
       " 'tracer1': 6,\n",
       " 'passive_scalars': array([5, 6])}"
      ]
     },
     "execution_count": 3,
     "metadata": {},
     "output_type": "execute_result"
    }
   ],
   "source": [
    "hs.variable_map"
   ]
  }
 ],
 "metadata": {
  "kernelspec": {
   "display_name": "fvhoe-env",
   "language": "python",
   "name": "python3"
  },
  "language_info": {
   "codemirror_mode": {
    "name": "ipython",
    "version": 3
   },
   "file_extension": ".py",
   "mimetype": "text/x-python",
   "name": "python",
   "nbconvert_exporter": "python",
   "pygments_lexer": "ipython3",
   "version": "3.11.9"
  }
 },
 "nbformat": 4,
 "nbformat_minor": 2
}
