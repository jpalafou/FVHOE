{
 "cells": [
  {
   "cell_type": "code",
   "execution_count": 1,
   "metadata": {},
   "outputs": [],
   "source": [
    "from fvhoe.array_management import ArrayManager\n",
    "from fvhoe.array_management import get_array_slice as slc\n",
    "import numpy as np"
   ]
  },
  {
   "cell_type": "code",
   "execution_count": 2,
   "metadata": {},
   "outputs": [
    {
     "data": {
      "text/plain": [
       "array([[1.3011162 , 1.73136916],\n",
       "       [1.54955378, 1.01137077],\n",
       "       [1.39937319, 1.1064871 ],\n",
       "       [1.3339398 , 1.23160181],\n",
       "       [1.37662921, 1.23190466]])"
      ]
     },
     "execution_count": 2,
     "metadata": {},
     "output_type": "execute_result"
    }
   ],
   "source": [
    "am = ArrayManager()\n",
    "\n",
    "N = 2\n",
    "w = np.random.rand(5, N) + 1\n",
    "am.add(\"w\", w)\n",
    "am(\"w\")"
   ]
  },
  {
   "cell_type": "code",
   "execution_count": 3,
   "metadata": {},
   "outputs": [
    {
     "data": {
      "text/plain": [
       "array([[1.28043942, 1.47055865],\n",
       "       [1.34945057, 1.02371957],\n",
       "       [1.13521984, 1.66818556],\n",
       "       [1.13047748, 1.49569835],\n",
       "       [1.68682109, 1.56650249]])"
      ]
     },
     "execution_count": 3,
     "metadata": {},
     "output_type": "execute_result"
    }
   ],
   "source": [
    "u = am(\"w\")\n",
    "u[...] = np.random.rand(5, N) + 1\n",
    "am(\"w\")"
   ]
  }
 ],
 "metadata": {
  "kernelspec": {
   "display_name": "fvhoe-env",
   "language": "python",
   "name": "python3"
  },
  "language_info": {
   "codemirror_mode": {
    "name": "ipython",
    "version": 3
   },
   "file_extension": ".py",
   "mimetype": "text/x-python",
   "name": "python",
   "nbconvert_exporter": "python",
   "pygments_lexer": "ipython3",
   "version": "3.11.9"
  }
 },
 "nbformat": 4,
 "nbformat_minor": 2
}
