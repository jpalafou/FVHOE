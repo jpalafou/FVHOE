{
 "cells": [
  {
   "cell_type": "code",
   "execution_count": 7,
   "metadata": {},
   "outputs": [],
   "source": [
    "from functools import partial\n",
    "from fvhoe.initial_conditions import square\n",
    "from fvhoe.solver import EulerSolver\n",
    "import matplotlib.pyplot as plt"
   ]
  },
  {
   "cell_type": "code",
   "execution_count": 4,
   "metadata": {},
   "outputs": [
    {
     "name": "stderr",
     "output_type": "stream",
     "text": [
      "100%|██████████| 100/100 [00:06<00:00, 15.72it/s]\n"
     ]
    }
   ],
   "source": [
    "solver = EulerSolver(\n",
    "    w0=square(dims=\"xyz\", vx=1, vy=1, vz=1),\n",
    "    nx=32,\n",
    "    ny=32,\n",
    "    nz=32,\n",
    "    px=3,\n",
    "    py=3,\n",
    "    pz=3,\n",
    "    cupy=True,\n",
    ")\n",
    "solver.run(n=100)"
   ]
  },
  {
   "cell_type": "code",
   "execution_count": 10,
   "metadata": {},
   "outputs": [
    {
     "data": {
      "text/plain": [
       "<matplotlib.image.AxesImage at 0x14fbf02b0a50>"
      ]
     },
     "execution_count": 10,
     "metadata": {},
     "output_type": "execute_result"
    },
    {
     "data": {
      "image/png": "[encoded data removed]",
      "text/plain": [
       "<Figure size 640x480 with 1 Axes>"
      ]
     },
     "metadata": {},
     "output_type": "display_data"
    }
   ],
   "source": [
    "fig, ax = plt.subplots()\n",
    "\n",
    "solver.plot_2d_slice(ax, param=\"rho\", z=0.75)"
   ]
  },
  {
   "cell_type": "code",
   "execution_count": 10,
   "metadata": {},
   "outputs": [
    {
     "name": "stdout",
     "output_type": "stream",
     "text": [
      "Read from snapshot directory /scratch/gpfs/jp7427/fvhoe/snapshots/square_timing_test_N=512_p=3_main\n",
      "Read from snapshot directory /scratch/gpfs/jp7427/fvhoe/snapshots/square_timing_test_N=512_p=3_index\n"
     ]
    }
   ],
   "source": [
    "from fvhoe.array_management import get_array_slice as slc\n",
    "import numpy as np\n",
    "\n",
    "solver_main = EulerSolver(\n",
    "    w0=square(dims=\"xy\", vx=1, vy=1),\n",
    "    nx=32,\n",
    "    ny=32,\n",
    "    px=3,\n",
    "    py=3,\n",
    ")\n",
    "solver_main.run(\n",
    "    T=1.0,\n",
    "    snapshot_dir=\"/scratch/gpfs/jp7427/fvhoe/snapshots/square_timing_test_N=512_p=3_main\",\n",
    ")\n",
    "\n",
    "solver_index = EulerSolver(\n",
    "    w0=square(dims=\"xy\", vx=1, vy=1),\n",
    "    nx=32,\n",
    "    ny=32,\n",
    "    px=3,\n",
    "    py=3,\n",
    ")\n",
    "solver_index.run(\n",
    "    T=1.0,\n",
    "    snapshot_dir=\"/scratch/gpfs/jp7427/fvhoe/snapshots/square_timing_test_N=512_p=3_index\",\n",
    ")"
   ]
  },
  {
   "cell_type": "code",
   "execution_count": 11,
   "metadata": {},
   "outputs": [
    {
     "data": {
      "text/plain": [
       "NamedArray(0.)"
      ]
     },
     "execution_count": 11,
     "metadata": {},
     "output_type": "execute_result"
    }
   ],
   "source": [
    "np.mean(\n",
    "    np.abs(\n",
    "        solver_main.snapshots[-1][\"w\"][slc(\"rho\")]\n",
    "        - solver_index.snapshots[-1][\"w\"][slc(\"rho\")]\n",
    "    )\n",
    ")"
   ]
  },
  {
   "cell_type": "code",
   "execution_count": null,
   "metadata": {},
   "outputs": [],
   "source": []
  }
 ],
 "metadata": {
  "kernelspec": {
   "display_name": "fvhoe-env [~/.conda/envs/fvhoe-env/]",
   "language": "python",
   "name": "conda_fvhoe-env"
  },
  "language_info": {
   "codemirror_mode": {
    "name": "ipython",
    "version": 3
   },
   "file_extension": ".py",
   "mimetype": "text/x-python",
   "name": "python",
   "nbconvert_exporter": "python",
   "pygments_lexer": "ipython3",
   "version": "3.11.9"
  }
 },
 "nbformat": 4,
 "nbformat_minor": 2
}
