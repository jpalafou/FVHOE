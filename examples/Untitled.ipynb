{
 "cells": [
  {
   "cell_type": "code",
   "execution_count": 1,
   "id": "33f73b4d",
   "metadata": {},
   "outputs": [],
   "source": [
    "import numpy as np\n",
    "import cupy as cp\n",
    "from fvhoe.named_array import NamedNumpyArray, NamedCupyArray"
   ]
  },
  {
   "cell_type": "code",
   "execution_count": 2,
   "id": "13a15a29",
   "metadata": {},
   "outputs": [],
   "source": [
    "np_arr = np.random.rand(2, 2)"
   ]
  },
  {
   "cell_type": "code",
   "execution_count": 11,
   "id": "38d9f8f3",
   "metadata": {},
   "outputs": [
    {
     "data": {
      "text/plain": [
       "array(0.0078125)"
      ]
     },
     "execution_count": 11,
     "metadata": {},
     "output_type": "execute_result"
    }
   ],
   "source": [
    "np_arr.__class__([])"
   ]
  },
  {
   "cell_type": "code",
   "execution_count": 3,
   "id": "c61442b1",
   "metadata": {},
   "outputs": [],
   "source": [
    "nnp_arr = NamedNumpyArray(np_arr, [\"a\", \"b\"])"
   ]
  },
  {
   "cell_type": "code",
   "execution_count": 4,
   "id": "041bfbd9",
   "metadata": {},
   "outputs": [
    {
     "data": {
      "text/plain": [
       "numpy.ndarray"
      ]
     },
     "execution_count": 4,
     "metadata": {},
     "output_type": "execute_result"
    }
   ],
   "source": [
    "type(nnp_arr.a)"
   ]
  },
  {
   "cell_type": "code",
   "execution_count": 5,
   "id": "971d3d04",
   "metadata": {},
   "outputs": [],
   "source": [
    "ncp_arr = NamedCupyArray(np_arr, [\"a\", \"b\"])"
   ]
  },
  {
   "cell_type": "code",
   "execution_count": 6,
   "id": "4f296245",
   "metadata": {},
   "outputs": [
    {
     "data": {
      "text/plain": [
       "cupy.ndarray"
      ]
     },
     "execution_count": 6,
     "metadata": {},
     "output_type": "execute_result"
    }
   ],
   "source": [
    "type(cp.array(ncp_arr, copy=True))"
   ]
  },
  {
   "cell_type": "code",
   "execution_count": 7,
   "id": "5211b2d5",
   "metadata": {},
   "outputs": [
    {
     "data": {
      "text/plain": [
       "cupy.ndarray"
      ]
     },
     "execution_count": 7,
     "metadata": {},
     "output_type": "execute_result"
    }
   ],
   "source": [
    "type(ncp_arr.a)"
   ]
  }
 ],
 "metadata": {
  "kernelspec": {
   "display_name": "fv-env [~/.conda/envs/fv-env/]",
   "language": "python",
   "name": "conda_fv-env"
  },
  "language_info": {
   "codemirror_mode": {
    "name": "ipython",
    "version": 3
   },
   "file_extension": ".py",
   "mimetype": "text/x-python",
   "name": "python",
   "nbconvert_exporter": "python",
   "pygments_lexer": "ipython3",
   "version": "3.11.5"
  }
 },
 "nbformat": 4,
 "nbformat_minor": 5
}
