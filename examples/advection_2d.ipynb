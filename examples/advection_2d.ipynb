{
 "cells": [
  {
   "cell_type": "code",
   "execution_count": 1,
   "metadata": {},
   "outputs": [],
   "source": [
    "import matplotlib.pyplot as plt\n",
    "import numpy as np\n",
    "from fvhoe.hydro import compute_conservatives\n",
    "from fvhoe.initial_conditions import square\n",
    "from fvhoe.solver import EulerSolver"
   ]
  },
  {
   "cell_type": "code",
   "execution_count": 2,
   "metadata": {},
   "outputs": [],
   "source": [
    "def f0(x, y, z):\n",
    "    return square(x, y, z, dims=\"xy\", vx=2, vy=1)"
   ]
  },
  {
   "cell_type": "code",
   "execution_count": 3,
   "metadata": {},
   "outputs": [],
   "source": [
    "solver = EulerSolver(\n",
    "    w0=f0, nx=64, ny=64, px=3, py=3, riemann_solver=\"advection_upwind\", cupy=True\n",
    ")"
   ]
  },
  {
   "cell_type": "code",
   "execution_count": 4,
   "metadata": {},
   "outputs": [
    {
     "name": "stderr",
     "output_type": "stream",
     "text": [
      "100%|██████████| 1.0/1 [00:17]                 \n"
     ]
    }
   ],
   "source": [
    "solver.rkorder(1, downbeats=[0.5])"
   ]
  },
  {
   "cell_type": "code",
   "execution_count": 5,
   "metadata": {},
   "outputs": [
    {
     "name": "stdout",
     "output_type": "stream",
     "text": [
      "t=1.00, x=[0.01, 0.99], y=[0.01, 0.99], z=0.50\n",
      "horizontal_axis='x', vertical_axis='y'\n"
     ]
    },
    {
     "data": {
      "text/plain": [
       "Text(0, 0.5, '$y$')"
      ]
     },
     "execution_count": 5,
     "metadata": {},
     "output_type": "execute_result"
    },
    {
     "data": {
      "image/png": "[encoded data removed]",
      "text/plain": [
       "<Figure size 640x480 with 2 Axes>"
      ]
     },
     "metadata": {},
     "output_type": "display_data"
    }
   ],
   "source": [
    "fig, ax = plt.subplots()\n",
    "\n",
    "param = \"rho\"\n",
    "im = solver.plot_2d_slice(ax, t=1, param=param, cmap=\"gnuplot\", z=0.5)\n",
    "fig.colorbar(im, ax=ax, label=r\"$\\overline{\\rho}$\")\n",
    "\n",
    "ax.set_xlabel(\"$x$\")\n",
    "ax.set_ylabel(\"$y$\")"
   ]
  },
  {
   "cell_type": "code",
   "execution_count": 6,
   "metadata": {},
   "outputs": [
    {
     "name": "stdout",
     "output_type": "stream",
     "text": [
      "Total mass at time 0: 0.015625\n",
      "Total mass at time 1: 0.015625\n"
     ]
    }
   ],
   "source": [
    "for t in [0, 1]:\n",
    "    m_tot = np.sum(solver.snapshots[0][\"rho\"][:, 0, 0]) * (\n",
    "        solver.h[0] * solver.h[1] * solver.h[2]\n",
    "    )\n",
    "    print(f\"Total mass at time {t}: {m_tot}\")"
   ]
  },
  {
   "cell_type": "code",
   "execution_count": null,
   "metadata": {},
   "outputs": [],
   "source": []
  }
 ],
 "metadata": {
  "kernelspec": {
   "display_name": "fv-env [~/.conda/envs/fv-env/]",
   "language": "python",
   "name": "conda_fv-env"
  },
  "language_info": {
   "codemirror_mode": {
    "name": "ipython",
    "version": 3
   },
   "file_extension": ".py",
   "mimetype": "text/x-python",
   "name": "python",
   "nbconvert_exporter": "python",
   "pygments_lexer": "ipython3",
   "version": "3.11.5"
  }
 },
 "nbformat": 4,
 "nbformat_minor": 2
}
