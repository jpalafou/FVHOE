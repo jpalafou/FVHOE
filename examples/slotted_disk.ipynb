{
 "cells": [
  {
   "cell_type": "code",
   "execution_count": 1,
   "metadata": {},
   "outputs": [
    {
     "name": "stdout",
     "output_type": "stream",
     "text": [
      "WARNING: CuPy is not available. Falling back to NumPy.\n"
     ]
    }
   ],
   "source": [
    "import matplotlib.pyplot as plt\n",
    "import numpy as np\n",
    "from fvhoe.boundary_conditions import BoundaryCondition\n",
    "from fvhoe.hydro import compute_conservatives\n",
    "from fvhoe.initial_conditions import slotted_disk\n",
    "from fvhoe.solver import EulerSolver"
   ]
  },
  {
   "cell_type": "code",
   "execution_count": 2,
   "metadata": {},
   "outputs": [],
   "source": [
    "def px(x, y, z):\n",
    "    yc = y - 0.5\n",
    "    return -yc\n",
    "\n",
    "\n",
    "def py(x, y, z):\n",
    "    xc = x - 0.5\n",
    "    return xc\n",
    "\n",
    "\n",
    "def E(x, y, z):\n",
    "    xc = x - 0.5\n",
    "    yc = y - 0.5\n",
    "    return 1 / (5 / 3 - 1) + 0.5 * (xc**2 + yc**2)\n",
    "\n",
    "\n",
    "solver = EulerSolver(\n",
    "    w0=slotted_disk,\n",
    "    nx=32,\n",
    "    ny=32,\n",
    "    px=3,\n",
    "    py=3,\n",
    "    bc=BoundaryCondition(\n",
    "        x=\"dirichlet\",\n",
    "        y=\"x\",\n",
    "        x_value={\"rho\": 1, \"E\": E, \"px\": px, \"py\": py, \"pz\": 0},\n",
    "        y_value=\"x\",\n",
    "    ),\n",
    "    riemann_solver=\"advection_upwind\",\n",
    "    CFL=0.1,\n",
    "    cupy=True,\n",
    ")"
   ]
  },
  {
   "cell_type": "code",
   "execution_count": 3,
   "metadata": {},
   "outputs": [
    {
     "name": "stderr",
     "output_type": "stream",
     "text": [
      "  0%|          | 0/0.05 [00:00]"
     ]
    },
    {
     "name": "stderr",
     "output_type": "stream",
     "text": [
      "100%|██████████| 0.05/0.05 [00:05]                 \n"
     ]
    }
   ],
   "source": [
    "solver.rkorder(0.05)"
   ]
  },
  {
   "cell_type": "code",
   "execution_count": 6,
   "metadata": {},
   "outputs": [
    {
     "name": "stdout",
     "output_type": "stream",
     "text": [
      "t=0.05, x=[0.02, 0.98], y=[0.02, 0.98], z=0.50\n",
      "horizontal_axis='x', vertical_axis='y'\n"
     ]
    },
    {
     "data": {
      "text/plain": [
       "Text(0, 0.5, '$y$')"
      ]
     },
     "execution_count": 6,
     "metadata": {},
     "output_type": "execute_result"
    },
    {
     "data": {
      "image/png": "[encoded data removed]",
      "text/plain": [
       "<Figure size 640x480 with 2 Axes>"
      ]
     },
     "metadata": {},
     "output_type": "display_data"
    }
   ],
   "source": [
    "fig, ax = plt.subplots()\n",
    "\n",
    "param = \"E\"\n",
    "im = solver.plot_2d_slice(ax, t=0.15, param=param, cmap=\"gnuplot\", z=0.5)\n",
    "fig.colorbar(im, ax=ax, label=r\"$\\overline{\\rho}$\")\n",
    "\n",
    "ax.set_xlabel(\"$x$\")\n",
    "ax.set_ylabel(\"$y$\")"
   ]
  },
  {
   "cell_type": "code",
   "execution_count": 5,
   "metadata": {},
   "outputs": [
    {
     "name": "stdout",
     "output_type": "stream",
     "text": [
      "Total mass at time 0: 0.03125\n",
      "Total mass at time 1: 0.03125\n"
     ]
    }
   ],
   "source": [
    "for t in [0, 1]:\n",
    "    m_tot = np.sum(solver.snapshots[0][\"fv\"].rho[:, 0, 0]) * (\n",
    "        solver.h[0] * solver.h[1] * solver.h[2]\n",
    "    )\n",
    "    print(f\"Total mass at time {t}: {m_tot}\")"
   ]
  },
  {
   "cell_type": "code",
   "execution_count": null,
   "metadata": {},
   "outputs": [],
   "source": []
  }
 ],
 "metadata": {
  "kernelspec": {
   "display_name": "fvhoe",
   "language": "python",
   "name": "python3"
  },
  "language_info": {
   "codemirror_mode": {
    "name": "ipython",
    "version": 3
   },
   "file_extension": ".py",
   "mimetype": "text/x-python",
   "name": "python",
   "nbconvert_exporter": "python",
   "pygments_lexer": "ipython3",
   "version": "3.11.9"
  }
 },
 "nbformat": 4,
 "nbformat_minor": 2
}
