{
 "cells": [
  {
   "cell_type": "code",
   "execution_count": 1,
   "metadata": {},
   "outputs": [
    {
     "name": "stdout",
     "output_type": "stream",
     "text": [
      "WARNING: CuPy is not available. Falling back to NumPy.\n",
      "CuPy not available, falling back to NumPy\n"
     ]
    }
   ],
   "source": [
    "from functools import partial\n",
    "from fvhoe.boundary_conditions import BoundaryCondition\n",
    "from fvhoe.initial_conditions import shu_osher_1d\n",
    "from fvhoe.named_array import NamedNumpyArray\n",
    "from fvhoe.solver import EulerSolver\n",
    "from fvhoe.visualization import plot_1d_slice\n",
    "import matplotlib.pyplot as plt\n",
    "import numpy as np\n",
    "import os\n",
    "from pickle import dump, load\n",
    "import sys\n",
    "import warnings\n",
    "\n",
    "warnings.filterwarnings(\"ignore\")\n",
    "\n",
    "sd_path = \"../../../sd/\"\n",
    "\n",
    "sys.path.append(sd_path + \"src\")\n",
    "sys.path.append(sd_path + \"utils\")\n",
    "sys.path.append(sd_path + \"ODE\")\n",
    "\n",
    "from initial_conditions_2d import Shu_Osher\n",
    "from sd_simulator import SD_Simulator\n",
    "import sd_visualize as sdv"
   ]
  },
  {
   "cell_type": "code",
   "execution_count": 2,
   "metadata": {},
   "outputs": [],
   "source": [
    "N = 200\n",
    "p = 3\n",
    "T = 1.8\n",
    "gamma = 1.4\n",
    "boxlen = 10\n",
    "\n",
    "n_dofs = N * (p + 1)"
   ]
  },
  {
   "cell_type": "code",
   "execution_count": 3,
   "metadata": {},
   "outputs": [
    {
     "name": "stdout",
     "output_type": "stream",
     "text": [
      "Snapshot found!\n"
     ]
    }
   ],
   "source": [
    "# solve with finite volumes\n",
    "\n",
    "overwrite = False\n",
    "\n",
    "try:\n",
    "    with open(\"../../snapshots/shu_osher/arrs.pkl\", \"rb\") as f:\n",
    "        if overwrite:\n",
    "            raise FileNotFoundError\n",
    "        fv = load(f)\n",
    "        print(\"Snapshot found!\")\n",
    "except FileNotFoundError:\n",
    "    fv = EulerSolver(\n",
    "        w0=shu_osher_1d,\n",
    "        x=(0, boxlen),\n",
    "        nx=n_dofs,\n",
    "        px=p,\n",
    "        riemann_solver=\"hllc3\",\n",
    "        bc=BoundaryCondition(\n",
    "            x=\"dirichlet\",\n",
    "            x_value=(\n",
    "                {\n",
    "                    \"rho\": 3.857143,\n",
    "                    \"mx\": 3.857143 * 2.629369,\n",
    "                    \"my\": 0,\n",
    "                    \"mz\": 0,\n",
    "                    \"E\": 10.33333 / (gamma - 1) + 0.5 * 3.857143 * 2.629369 * 2.629369,\n",
    "                },\n",
    "                {\n",
    "                    \"rho\": 1 + 0.2 * np.sin(5 * 5),\n",
    "                    \"mx\": 0,\n",
    "                    \"my\": 0,\n",
    "                    \"mz\": 0,\n",
    "                    \"E\": 1 / (gamma - 1),\n",
    "                },\n",
    "            ),\n",
    "        ),\n",
    "        gamma=gamma,\n",
    "        a_posteriori_slope_limiting=True,\n",
    "        density_floor=False,\n",
    "        pressure_floor=False,\n",
    "        slope_limiter=\"minmod\",\n",
    "        snapshot_dir=\"../../snapshots\",\n",
    "    )\n",
    "\n",
    "    fv.rkorder(T, filename=\"shu_osher\", overwrite=overwrite)"
   ]
  },
  {
   "cell_type": "code",
   "execution_count": 4,
   "metadata": {},
   "outputs": [
    {
     "name": "stdout",
     "output_type": "stream",
     "text": [
      "2450 time steps (t = 1.8, Execution time: 153.178212 s)000231652534547, min p = 0.8479834320868307)\n"
     ]
    }
   ],
   "source": [
    "# solve with spectral differences\n",
    "\n",
    "try:\n",
    "    with open(\"../../snapshots/shu_osher_sd/arrs.pkl\", \"rb\") as f:\n",
    "        sd = load(f)\n",
    "    print(\"Snapshot found!\")\n",
    "except FileNotFoundError:\n",
    "    sd = SD_Simulator(\n",
    "        n=p,\n",
    "        Nx=N,\n",
    "        Ny=1,\n",
    "        init_fct=Shu_Osher,\n",
    "        BC=[\"ic\", \"periodic\"],\n",
    "        gamma=gamma,\n",
    "        detect_troubles=True,\n",
    "        boxlen_x=boxlen,\n",
    "        use_cupy=False,\n",
    "    )\n",
    "    sd.perform_time_evolution(T)\n",
    "\n",
    "    # create fake snapshot\n",
    "    W = sd.transpose_to_fv(sd.dm.W_cv)\n",
    "    x = sd.dm.x_cv[2:-2]\n",
    "\n",
    "    log = dict(\n",
    "        x=x,\n",
    "        y=np.array([0.5]),\n",
    "        z=np.array([0.5]),\n",
    "        t=sd.time,\n",
    "        w=NamedNumpyArray(\n",
    "            W[:, 0, ...].reshape(5, n_dofs, 1, 1), [\"rho\", \"vx\", \"vy\", \"P\", \"h\"]\n",
    "        ),\n",
    "    )\n",
    "    sd = [log]\n",
    "\n",
    "    # save\n",
    "    if not os.path.exists(\"../../snapshots/shu_osher_sd\"):\n",
    "        os.makedirs(\"../../snapshots/shu_osher_sd\")\n",
    "    with open(\"../../snapshots/shu_osher_sd/arrs.pkl\", \"wb\") as f:\n",
    "        dump(sd, f)"
   ]
  },
  {
   "cell_type": "code",
   "execution_count": 8,
   "metadata": {},
   "outputs": [
    {
     "name": "stdout",
     "output_type": "stream",
     "text": [
      "t=1.80, x=[0.01, 9.99], y=0.50, z=0.50\n",
      "t=1.80, x=[0.00, 10.00], y=0.50, z=0.50\n",
      "t=1.80, x=[0.01, 9.99], y=0.50, z=0.50\n",
      "t=1.80, x=[0.00, 10.00], y=0.50, z=0.50\n",
      "t=1.80, x=[0.01, 9.99], y=0.50, z=0.50\n",
      "t=1.80, x=[0.00, 10.00], y=0.50, z=0.50\n"
     ]
    },
    {
     "data": {
      "text/plain": [
       "(5.0, 7.5)"
      ]
     },
     "execution_count": 8,
     "metadata": {},
     "output_type": "execute_result"
    },
    {
     "data": {
      "image/png": "[encoded data removed]",
      "text/plain": [
       "<Figure size 640x480 with 3 Axes>"
      ]
     },
     "metadata": {},
     "output_type": "display_data"
    }
   ],
   "source": [
    "fig, ax = plt.subplots(3, sharex=True)\n",
    "\n",
    "for i, (var, label) in enumerate(\n",
    "    zip(\n",
    "        [\"rho\", \"vx\", \"P\"],\n",
    "        [r\"$\\overline{\\rho}$\", r\"$\\overline{v}_x$\", r\"$\\overline{P}$\"],\n",
    "    )\n",
    "):\n",
    "    plot_1d_slice(fv, ax[i], y=0.5, z=0.5, param=var, label=\"FV\")\n",
    "    plot_1d_slice(sd, ax[i], y=0.5, z=0.5, param=var, linestyle=\"--\", label=\"SD\")\n",
    "    ax[i].set_ylabel(label)\n",
    "\n",
    "ax[1].legend(loc=\"center\", bbox_to_anchor=(1.15, 0.5))\n",
    "ax[2].set_xlabel(\"$x$\")\n",
    "ax[2].set_xlim(5, 7.5)"
   ]
  },
  {
   "cell_type": "code",
   "execution_count": null,
   "metadata": {},
   "outputs": [],
   "source": []
  }
 ],
 "metadata": {
  "kernelspec": {
   "display_name": "fvhoe-env",
   "language": "python",
   "name": "python3"
  },
  "language_info": {
   "codemirror_mode": {
    "name": "ipython",
    "version": 3
   },
   "file_extension": ".py",
   "mimetype": "text/x-python",
   "name": "python",
   "nbconvert_exporter": "python",
   "pygments_lexer": "ipython3",
   "version": "3.11.9"
  }
 },
 "nbformat": 4,
 "nbformat_minor": 2
}
