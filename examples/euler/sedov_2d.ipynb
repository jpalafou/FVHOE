{
 "cells": [
  {
   "cell_type": "code",
   "execution_count": null,
   "metadata": {},
   "outputs": [],
   "source": [
    "from functools import partial\n",
    "from fvhoe.boundary_conditions import BoundaryCondition\n",
    "from fvhoe.hydro import advection_dt\n",
    "from fvhoe.initial_conditions import sedov_blast\n",
    "from fvhoe.solver import EulerSolver\n",
    "import matplotlib.pyplot as plt\n",
    "import numpy as np"
   ]
  },
  {
   "cell_type": "code",
   "execution_count": null,
   "metadata": {},
   "outputs": [],
   "source": [
    "N = 64\n",
    "p = 3\n",
    "solver = EulerSolver(\n",
    "    w0=partial(sedov_blast, radius=0.05, Pmin_Pmax=(1, 2)),\n",
    "    bc=BoundaryCondition(x=\"free\", y=\"free\"),\n",
    "    nx=N,\n",
    "    ny=N,\n",
    "    px=p,\n",
    "    py=p,\n",
    "    riemann_solver=\"hllc\",\n",
    "    a_posteriori_slope_limiting=True,\n",
    "    slope_limiter=\"minmod\",\n",
    "    cupy=True,\n",
    ")"
   ]
  },
  {
   "cell_type": "code",
   "execution_count": null,
   "metadata": {},
   "outputs": [],
   "source": [
    "solver.rkorder(0.2, [0.05, 0.1, 0.15])"
   ]
  },
  {
   "cell_type": "code",
   "execution_count": null,
   "metadata": {},
   "outputs": [],
   "source": [
    "fig, ax = plt.subplots(2, 2, sharex=True, sharey=True)\n",
    "\n",
    "for var, label, idx in zip(\n",
    "    [\"rho\", \"P\", \"vx\", \"vy\"],\n",
    "    [r\"$\\overline{\\rho}$\", r\"$\\overline{P}$\", r\"$\\overline{v}_x$\", r\"$\\overline{v}_y$\"],\n",
    "    [(0, 0), (0, 1), (1, 0), (1, 1)],\n",
    "):\n",
    "    im = solver.plot_2d_slice(ax[idx], t=1, param=var, cmap=\"gnuplot\", z=0.5)\n",
    "    fig.colorbar(im, ax=ax[idx], label=label)\n",
    "\n",
    "ax[0, 0].set_ylabel(\"$y$\")\n",
    "ax[1, 0].set_ylabel(\"$y$\")\n",
    "ax[1, 0].set_xlabel(\"$x$\")\n",
    "ax[1, 1].set_xlabel(\"$x$\")"
   ]
  },
  {
   "cell_type": "code",
   "execution_count": null,
   "metadata": {},
   "outputs": [],
   "source": [
    "for n in [0, -1]:\n",
    "    m_tot = np.sum(solver.snapshots[0][\"fv\"].rho[:, 0, 0]) * (\n",
    "        solver.h[0] * solver.h[1] * solver.h[2]\n",
    "    )\n",
    "    print(f\"Total mass at time {solver.snapshot_times[n]}: {m_tot}\")"
   ]
  },
  {
   "cell_type": "code",
   "execution_count": null,
   "metadata": {},
   "outputs": [],
   "source": [
    "print(f\"min rho at latest snapshot: {np.min(solver.snapshots[-1]['fv'].rho)}\")\n",
    "print(f\"max rho at latest snapshot: {np.max(solver.snapshots[-1]['fv'].rho)}\")"
   ]
  }
 ],
 "metadata": {
  "kernelspec": {
   "display_name": "fv-env",
   "language": "python",
   "name": "python3"
  },
  "language_info": {
   "codemirror_mode": {
    "name": "ipython",
    "version": 3
   },
   "file_extension": ".py",
   "mimetype": "text/x-python",
   "name": "python",
   "nbconvert_exporter": "python",
   "pygments_lexer": "ipython3",
   "version": "3.11.5"
  }
 },
 "nbformat": 4,
 "nbformat_minor": 2
}
