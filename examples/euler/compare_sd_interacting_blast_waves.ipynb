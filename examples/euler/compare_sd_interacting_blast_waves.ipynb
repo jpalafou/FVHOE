{
 "cells": [
  {
   "cell_type": "code",
   "execution_count": 1,
   "metadata": {},
   "outputs": [
    {
     "name": "stdout",
     "output_type": "stream",
     "text": [
      "WARNING: CuPy is not available. Falling back to NumPy.\n",
      "CuPy not available, falling back to NumPy\n"
     ]
    }
   ],
   "source": [
    "from functools import partial\n",
    "from fvhoe.boundary_conditions import BoundaryCondition\n",
    "from fvhoe.initial_conditions import double_shock_1d\n",
    "from fvhoe.named_array import NamedNumpyArray\n",
    "from fvhoe.solver import EulerSolver\n",
    "from fvhoe.visualization import plot_1d_slice\n",
    "import matplotlib.pyplot as plt\n",
    "import numpy as np\n",
    "import os\n",
    "from pickle import dump, load\n",
    "import sys\n",
    "import warnings\n",
    "\n",
    "warnings.filterwarnings(\"ignore\")\n",
    "\n",
    "sd_path = \"../../../sd/\"\n",
    "\n",
    "sys.path.append(sd_path + \"src\")\n",
    "sys.path.append(sd_path + \"utils\")\n",
    "sys.path.append(sd_path + \"ODE\")\n",
    "\n",
    "from initial_conditions_2d import blast_wave_test\n",
    "from sd_simulator import SD_Simulator\n",
    "import sd_visualize as sdv"
   ]
  },
  {
   "cell_type": "code",
   "execution_count": 2,
   "metadata": {},
   "outputs": [],
   "source": [
    "N = 60\n",
    "p = 3\n",
    "T = 0.038\n",
    "gamma = 1.4\n",
    "\n",
    "n_dofs = N * (p + 1)"
   ]
  },
  {
   "cell_type": "code",
   "execution_count": 3,
   "metadata": {},
   "outputs": [
    {
     "name": "stderr",
     "output_type": "stream",
     "text": [
      "100%|██████████| 0.038/0.038 [00:50]                 "
     ]
    },
    {
     "name": "stdout",
     "output_type": "stream",
     "text": [
      "Snapshots saved to ../../snapshots/interacting_blast_waves\n"
     ]
    },
    {
     "name": "stderr",
     "output_type": "stream",
     "text": [
      "\n"
     ]
    }
   ],
   "source": [
    "# solve with finite volumes\n",
    "\n",
    "overwrite = False\n",
    "\n",
    "try:\n",
    "    with open(\"../../snapshots/interacting_blast_waves/arrs.pkl\", \"rb\") as f:\n",
    "        if overwrite:\n",
    "            raise FileNotFoundError\n",
    "        fv = load(f)\n",
    "        print(\"Snapshot found!\")\n",
    "except FileNotFoundError:\n",
    "    fv = EulerSolver(\n",
    "        w0=partial(double_shock_1d),\n",
    "        nx=n_dofs,\n",
    "        px=p,\n",
    "        riemann_solver=\"hllc3\",\n",
    "        bc=BoundaryCondition(\n",
    "            x={\n",
    "                \"rho\": \"reflective\",\n",
    "                \"E\": \"reflective\",\n",
    "                \"mx\": \"negative-reflective\",\n",
    "                \"my\": \"periodic\",\n",
    "                \"mz\": \"periodic\",\n",
    "            }\n",
    "        ),\n",
    "        gamma=gamma,\n",
    "        a_posteriori_slope_limiting=True,\n",
    "        density_floor=True,\n",
    "        pressure_floor=True,\n",
    "        slope_limiter=\"minmod\",\n",
    "        snapshot_dir=\"../../snapshots\",\n",
    "    )\n",
    "\n",
    "    fv.rkorder(T, filename=\"interacting_blast_waves\", overwrite=overwrite)"
   ]
  },
  {
   "cell_type": "code",
   "execution_count": 5,
   "metadata": {},
   "outputs": [
    {
     "name": "stdout",
     "output_type": "stream",
     "text": [
      "1580 time steps (t = 0.038, Execution time: 31.918038 s)19761135707924, min p = 18.169137681730316))5)7)\n"
     ]
    }
   ],
   "source": [
    "# solve with spectral differences\n",
    "\n",
    "try:\n",
    "    with open(\"../../snapshots/interacting_blast_waves_sd/arrs.pkl\", \"rb\") as f:\n",
    "        sd = load(f)\n",
    "    print(\"Snapshot found!\")\n",
    "except FileNotFoundError:\n",
    "    sd = SD_Simulator(\n",
    "        n=p,\n",
    "        Nx=N,\n",
    "        Ny=1,\n",
    "        init_fct=blast_wave_test,\n",
    "        BC=[\"reflex\", \"periodic\"],\n",
    "        gamma=gamma,\n",
    "        detect_troubles=True,\n",
    "        PAD=True,\n",
    "        convex_combo=True,\n",
    "        use_cupy=False,\n",
    "    )\n",
    "    sd.perform_time_evolution(T)\n",
    "\n",
    "    # create fake snapshot\n",
    "    W = sd.transpose_to_fv(sd.dm.W_cv)\n",
    "    x = sd.dm.x_cv[2:-2]\n",
    "\n",
    "    log = dict(\n",
    "        x=x,\n",
    "        y=np.array([0.5]),\n",
    "        z=np.array([0.5]),\n",
    "        t=sd.time,\n",
    "        w=NamedNumpyArray(\n",
    "            W[:, 0, ...].reshape(5, n_dofs, 1, 1), [\"rho\", \"vx\", \"vy\", \"P\", \"h\"]\n",
    "        ),\n",
    "    )\n",
    "    sd = [log]\n",
    "\n",
    "    # save\n",
    "    if not os.path.exists(\"../../snapshots/interacting_blast_waves_sd\"):\n",
    "        os.makedirs(\"../../snapshots/interacting_blast_waves_sd\")\n",
    "    with open(\"../../snapshots/interacting_blast_waves_sd/arrs.pkl\", \"wb\") as f:\n",
    "        dump(sd, f)"
   ]
  },
  {
   "cell_type": "code",
   "execution_count": 6,
   "metadata": {},
   "outputs": [
    {
     "name": "stdout",
     "output_type": "stream",
     "text": [
      "t=0.00, x=[0.00, 1.00], y=0.50, z=0.50\n",
      "t=0.04, x=[0.00, 1.00], y=0.50, z=0.50\n",
      "t=0.04, x=[0.00, 1.00], y=0.50, z=0.50\n",
      "t=0.00, x=[0.00, 1.00], y=0.50, z=0.50\n",
      "t=0.04, x=[0.00, 1.00], y=0.50, z=0.50\n",
      "t=0.04, x=[0.00, 1.00], y=0.50, z=0.50\n",
      "t=0.00, x=[0.00, 1.00], y=0.50, z=0.50\n",
      "t=0.04, x=[0.00, 1.00], y=0.50, z=0.50\n",
      "t=0.04, x=[0.00, 1.00], y=0.50, z=0.50\n"
     ]
    },
    {
     "data": {
      "text/plain": [
       "Text(0.5, 0, '$x$')"
      ]
     },
     "execution_count": 6,
     "metadata": {},
     "output_type": "execute_result"
    },
    {
     "data": {
      "image/png": "[encoded data removed]",
      "text/plain": [
       "<Figure size 640x480 with 3 Axes>"
      ]
     },
     "metadata": {},
     "output_type": "display_data"
    }
   ],
   "source": [
    "fig, ax = plt.subplots(3, sharex=True)\n",
    "\n",
    "for i, (var, label) in enumerate(\n",
    "    zip(\n",
    "        [\"rho\", \"vx\", \"P\"],\n",
    "        [r\"$\\overline{\\rho}$\", r\"$\\overline{v}_x$\", r\"$\\overline{P}$\"],\n",
    "    )\n",
    "):\n",
    "    plot_1d_slice(fv, ax[i], y=0.5, z=0.5, t=0, color=\"k\", param=var)\n",
    "    plot_1d_slice(fv, ax[i], y=0.5, z=0.5, param=var, label=\"FV\")\n",
    "    plot_1d_slice(sd, ax[i], y=0.5, z=0.5, param=var, linestyle=\"--\", label=\"SD\")\n",
    "    ax[i].set_ylabel(label)\n",
    "\n",
    "ax[1].legend(loc=\"center\", bbox_to_anchor=(1.15, 0.5))\n",
    "ax[2].set_xlabel(\"$x$\")"
   ]
  },
  {
   "cell_type": "code",
   "execution_count": null,
   "metadata": {},
   "outputs": [],
   "source": []
  }
 ],
 "metadata": {
  "kernelspec": {
   "display_name": "fvhoe-env [~/.conda/envs/fvhoe-env/]",
   "language": "python",
   "name": "conda_fvhoe-env"
  },
  "language_info": {
   "codemirror_mode": {
    "name": "ipython",
    "version": 3
   },
   "file_extension": ".py",
   "mimetype": "text/x-python",
   "name": "python",
   "nbconvert_exporter": "python",
   "pygments_lexer": "ipython3",
   "version": "3.11.9"
  }
 },
 "nbformat": 4,
 "nbformat_minor": 2
}
